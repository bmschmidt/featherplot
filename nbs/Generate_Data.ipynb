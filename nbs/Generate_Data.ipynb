{
 "cells": [
  {
   "attachments": {},
   "cell_type": "markdown",
   "metadata": {},
   "source": [
    "# Generate Simple Dataset\n",
    "\n",
    "for highlighting how to use [`deepscatter`][deepscatter] (from [NOMIC.ai][NOMIC.ai]) with [`svelte`][svelte] and [`sveltekit`][sveltekit].\n",
    "\n",
    "Credit goes to Benjamin Schmidt ([@bmschmidt][Benjamin Schmidt]) of [NOMIC.ai][NOMIC.ai] for his assistance.\n",
    "\n",
    "\n",
    "**DISCLAIMER** from [deepscatter][deepscatter]'s GitHub page under [API]:\n",
    "\n",
    "> This is still subject to change and is not fully documented. The encoding portion of the API mimics Vega-Lite with some minor distinctions to avoid deeply-nested queries and to add animation and jitter parameters.\n",
    "\n",
    "\n",
    "\n",
    "[api section]: https://github.com/nomic-ai/deepscatter#api\n",
    "[svelte]: https://svelte.dev\n",
    "[sveltekit]: https://kit.svelte.dev\n",
    "[NOMIC.ai]: https://home.nomic.ai\n",
    "[deepscatter]: https://github.com/nomic-ai/deepscatter\n",
    "[Benjamin Schmidt]: https://gist.github.com/bmschmidt\n",
    "[add_sidecars.py]: https://gist.github.com/bmschmidt/03947d36664ec07c63d7b72a5c8adbf8"
   ]
  },
  {
   "attachments": {},
   "cell_type": "markdown",
   "metadata": {},
   "source": [
    "## Slack Message"
   ]
  },
  {
   "attachments": {},
   "cell_type": "markdown",
   "metadata": {},
   "source": [
    "OK so if this is slow we can make it a gazillion times faster by doing this the right way, not joining on string keys, which is to use this [program][add_sidecars.py].\n",
    "\n",
    "The workflow is:\n",
    "\n",
    "1. Run quadfeather to create tiles the way you currently are into a folder at ~/data/whatever/my_tiles\n",
    "\n",
    "2. Create a single file that contains all the data you want to add, but none of the data that’s already there except for your unique id field. (barcode). That file needs to be somewhat strictly formatted, right now. (This is an unreleased feature). barcode must be the same name and data type as in your primary file.\n",
    "\n",
    "3. The file must be a feather file, not parquet. (from pyarrow import feather; feather.write_feather(parquet.read_table(\"fin.parquet\"), \"fout.feather\") )\n",
    "\n",
    "4. All columns that you want to show up in the data should ideally be float32() type, although doubles might not be the end of the world.\n",
    "\n",
    "Save the program above to [add_sidecars.py][add_sidecars.py], and run \n",
    "\n",
    "```shell\n",
    "python3 add_sidecars.py --tileset ~/data/whatever/my_tiles --sidecar fout.feather --key barcode\n",
    "```\n",
    "\n",
    "[add_sidecars.py]: https://gist.github.com/bmschmidt/03947d36664ec07c63d7b72a5c8adbf8"
   ]
  },
  {
   "attachments": {},
   "cell_type": "markdown",
   "metadata": {},
   "source": [
    "## Imports"
   ]
  },
  {
   "cell_type": "code",
   "execution_count": 1,
   "metadata": {},
   "outputs": [],
   "source": [
    "# standard lib\n",
    "import os, pwd, sys, json, yaml, atexit, tempfile, inspect\n",
    "\n",
    "# for data-science\n",
    "import pandas as pd, numpy as np, quadfeather\n",
    "from pyarrow import feather\n",
    "\n",
    "# for plotting\n",
    "import matplotlib as mpl, matplotlib.pyplot as plt, seaborn as sns"
   ]
  },
  {
   "attachments": {},
   "cell_type": "markdown",
   "metadata": {},
   "source": [
    "## Setup"
   ]
  },
  {
   "cell_type": "code",
   "execution_count": 2,
   "metadata": {},
   "outputs": [],
   "source": [
    "SEED = 3\n",
    "np.random.seed(SEED)\n",
    "\n",
    "# NOTE: this is much smaller than what deepscatter can actually handle\n",
    "N_POINTS = 20000\n",
    "\n",
    "# NOTE: this is much smaller than the default tile size of 50,000\n",
    "TILE_SIZE = 1000\n",
    "\n",
    "# full path to this notebook\n",
    "FILE = os.path.abspath('')\n",
    "\n",
    "# the sveltekit project you might be working on / want to deploy\n",
    "SVELTEKIT_DIR = os.path.join(FILE, '..')\n",
    "\n",
    "# the static assets directory of the sveltekit project where files are hosted\n",
    "STATIC_ASSETS_DIR = os.path.join(SVELTEKIT_DIR, 'static')\n",
    "\n",
    "# we are assuming that you might have multiple datasets you want to host / switch between\n",
    "DATASETS_DIR = os.path.join(STATIC_ASSETS_DIR, 'datasets')\n",
    "\n",
    "# this is where we are going to store our dataset\n",
    "DATASET_NAME = 'demo'\n",
    "DEMO_DATASET_DIR = os.path.join(DATASETS_DIR, DATASET_NAME)\n",
    "\n",
    "# NOTE: this is the unique ID that will be used map additional columns to the dataset\n",
    "LABEL_NAME = 'label'"
   ]
  },
  {
   "cell_type": "code",
   "execution_count": 3,
   "metadata": {},
   "outputs": [],
   "source": [
    "# you can switch TARGET_DIR with whatever dataset you want to work with\n",
    "TARGET_DIR = DEMO_DATASET_DIR\n",
    "\n",
    "if not os.path.isdir(TARGET_DIR):\n",
    "    os.makedirs(TARGET_DIR)    \n",
    "\n",
    "# NOTE: you can use a temp direcotry, but this is so you can view the files and confirm they are deleted\n",
    "TMP_DIR = os.path.expanduser('~/Downloads')"
   ]
  },
  {
   "attachments": {},
   "cell_type": "markdown",
   "metadata": {},
   "source": [
    "## Utils"
   ]
  },
  {
   "cell_type": "code",
   "execution_count": 4,
   "metadata": {},
   "outputs": [],
   "source": [
    "usr = pwd.getpwuid(os.getuid())[0]\n",
    "\n",
    "def collapse_user(path: str) -> str:\n",
    "    prefix, rest = path.split(usr)    \n",
    "    return '~' + rest"
   ]
  },
  {
   "cell_type": "code",
   "execution_count": 5,
   "metadata": {},
   "outputs": [],
   "source": [
    "def make_temp_file(**kwargs) -> tempfile.NamedTemporaryFile:\n",
    "    temp = tempfile.NamedTemporaryFile(**kwargs)\n",
    "    @atexit.register\n",
    "    def delete_temp() -> None:\n",
    "        temp.close()\n",
    "    return temp"
   ]
  },
  {
   "cell_type": "code",
   "execution_count": 25,
   "metadata": {},
   "outputs": [],
   "source": [
    "# where we will store points\n",
    "csv_points = make_temp_file(suffix='.parquet', dir=os.path.expanduser(TMP_DIR))\n",
    "\n",
    "# where we will store additional information\n",
    "csv_sidecar = make_temp_file(suffix='.parquet', dir=os.path.expanduser(TMP_DIR))\n",
    "\n",
    "# where we will store additional information as feather file\n",
    "feather_sidecar = make_temp_file(suffix='.feather', dir=os.path.expanduser(TMP_DIR))"
   ]
  },
  {
   "cell_type": "code",
   "execution_count": 26,
   "metadata": {},
   "outputs": [],
   "source": [
    "csv_labels = os.path.join(TARGET_DIR, 'labels.csv')"
   ]
  },
  {
   "attachments": {},
   "cell_type": "markdown",
   "metadata": {},
   "source": [
    "## Fake Data"
   ]
  },
  {
   "cell_type": "code",
   "execution_count": 27,
   "metadata": {},
   "outputs": [],
   "source": [
    "labels = pd.Series(np.arange(N_POINTS), name=LABEL_NAME).map(lambda x: f'Label {x}')"
   ]
  },
  {
   "cell_type": "code",
   "execution_count": 28,
   "metadata": {},
   "outputs": [
    {
     "data": {
      "text/html": [
       "<div>\n",
       "<style scoped>\n",
       "    .dataframe tbody tr th:only-of-type {\n",
       "        vertical-align: middle;\n",
       "    }\n",
       "\n",
       "    .dataframe tbody tr th {\n",
       "        vertical-align: top;\n",
       "    }\n",
       "\n",
       "    .dataframe thead th {\n",
       "        text-align: right;\n",
       "    }\n",
       "</style>\n",
       "<table border=\"1\" class=\"dataframe\">\n",
       "  <thead>\n",
       "    <tr style=\"text-align: right;\">\n",
       "      <th></th>\n",
       "      <th>x</th>\n",
       "      <th>y</th>\n",
       "      <th>z</th>\n",
       "    </tr>\n",
       "    <tr>\n",
       "      <th>label</th>\n",
       "      <th></th>\n",
       "      <th></th>\n",
       "      <th></th>\n",
       "    </tr>\n",
       "  </thead>\n",
       "  <tbody>\n",
       "    <tr>\n",
       "      <th>Label 0</th>\n",
       "      <td>0.664128</td>\n",
       "      <td>-0.006745</td>\n",
       "      <td>1.824689</td>\n",
       "    </tr>\n",
       "    <tr>\n",
       "      <th>Label 1</th>\n",
       "      <td>0.678044</td>\n",
       "      <td>0.025185</td>\n",
       "      <td>-1.036497</td>\n",
       "    </tr>\n",
       "    <tr>\n",
       "      <th>Label 2</th>\n",
       "      <td>-0.567204</td>\n",
       "      <td>-0.909240</td>\n",
       "      <td>0.378961</td>\n",
       "    </tr>\n",
       "    <tr>\n",
       "      <th>Label 3</th>\n",
       "      <td>-0.044125</td>\n",
       "      <td>0.191463</td>\n",
       "      <td>0.072447</td>\n",
       "    </tr>\n",
       "    <tr>\n",
       "      <th>Label 4</th>\n",
       "      <td>-1.031120</td>\n",
       "      <td>-0.586381</td>\n",
       "      <td>-1.524462</td>\n",
       "    </tr>\n",
       "  </tbody>\n",
       "</table>\n",
       "</div>"
      ],
      "text/plain": [
       "                x         y         z\n",
       "label                                \n",
       "Label 0  0.664128 -0.006745  1.824689\n",
       "Label 1  0.678044  0.025185 -1.036497\n",
       "Label 2 -0.567204 -0.909240  0.378961\n",
       "Label 3 -0.044125  0.191463  0.072447\n",
       "Label 4 -1.031120 -0.586381 -1.524462"
      ]
     },
     "execution_count": 28,
     "metadata": {},
     "output_type": "execute_result"
    }
   ],
   "source": [
    "df_points = pd.DataFrame(\n",
    "    np.random.randn(20000, 3),\n",
    "    index=labels, columns=['x', 'y', 'z']\n",
    ")\n",
    "df_points.head()"
   ]
  },
  {
   "cell_type": "code",
   "execution_count": 52,
   "metadata": {},
   "outputs": [
    {
     "ename": "ValueError",
     "evalue": "Shape of passed values is (20000, 4), indices imply (20000, 104)",
     "output_type": "error",
     "traceback": [
      "\u001b[0;31m---------------------------------------------------------------------------\u001b[0m",
      "\u001b[0;31mValueError\u001b[0m                                Traceback (most recent call last)",
      "\u001b[1;32m/Users/ben/featherplot/nbs/Generate_Data.ipynb Cell 17\u001b[0m in \u001b[0;36m1\n\u001b[0;32m----> <a href='vscode-notebook-cell:/Users/ben/featherplot/nbs/Generate_Data.ipynb#X22sZmlsZQ%3D%3D?line=0'>1</a>\u001b[0m df_sidecar \u001b[39m=\u001b[39m pd\u001b[39m.\u001b[39;49mDataFrame(\n\u001b[1;32m      <a href='vscode-notebook-cell:/Users/ben/featherplot/nbs/Generate_Data.ipynb#X22sZmlsZQ%3D%3D?line=1'>2</a>\u001b[0m     np\u001b[39m.\u001b[39;49mrandom\u001b[39m.\u001b[39;49mrandn(\u001b[39m20000\u001b[39;49m, \u001b[39m4\u001b[39;49m), index\u001b[39m=\u001b[39;49mlabels, \n\u001b[1;32m      <a href='vscode-notebook-cell:/Users/ben/featherplot/nbs/Generate_Data.ipynb#X22sZmlsZQ%3D%3D?line=2'>3</a>\u001b[0m     columns\u001b[39m=\u001b[39;49m[\u001b[39m'\u001b[39;49m\u001b[39mcategory\u001b[39;49m\u001b[39m'\u001b[39;49m, \u001b[39m'\u001b[39;49m\u001b[39mcontinuous\u001b[39;49m\u001b[39m'\u001b[39;49m, \u001b[39m'\u001b[39;49m\u001b[39mfeature\u001b[39;49m\u001b[39m'\u001b[39;49m, \u001b[39m'\u001b[39;49m\u001b[39mtarget\u001b[39;49m\u001b[39m'\u001b[39;49m, \u001b[39m*\u001b[39;49m[\u001b[39mf\u001b[39;49m\u001b[39m\"\u001b[39;49m\u001b[39mfeature_\u001b[39;49m\u001b[39m{\u001b[39;49;00mi\u001b[39m}\u001b[39;49;00m\u001b[39m\"\u001b[39;49m \u001b[39mfor\u001b[39;49;00m i \u001b[39min\u001b[39;49;00m \u001b[39mrange\u001b[39;49m(\u001b[39m100\u001b[39;49m)]]\n\u001b[1;32m      <a href='vscode-notebook-cell:/Users/ben/featherplot/nbs/Generate_Data.ipynb#X22sZmlsZQ%3D%3D?line=3'>4</a>\u001b[0m     \u001b[39m# dtype=['category', 'bool', 'float64', 'float64', 'float64']\u001b[39;49;00m\n\u001b[1;32m      <a href='vscode-notebook-cell:/Users/ben/featherplot/nbs/Generate_Data.ipynb#X22sZmlsZQ%3D%3D?line=4'>5</a>\u001b[0m )\n\u001b[1;32m      <a href='vscode-notebook-cell:/Users/ben/featherplot/nbs/Generate_Data.ipynb#X22sZmlsZQ%3D%3D?line=5'>6</a>\u001b[0m \u001b[39mimport\u001b[39;00m \u001b[39mrandom\u001b[39;00m\n\u001b[1;32m      <a href='vscode-notebook-cell:/Users/ben/featherplot/nbs/Generate_Data.ipynb#X22sZmlsZQ%3D%3D?line=6'>7</a>\u001b[0m categories \u001b[39m=\u001b[39m [\u001b[39m'\u001b[39m\u001b[39mred\u001b[39m\u001b[39m'\u001b[39m, \u001b[39m'\u001b[39m\u001b[39mgreen\u001b[39m\u001b[39m'\u001b[39m, \u001b[39m'\u001b[39m\u001b[39mblue\u001b[39m\u001b[39m'\u001b[39m]\n",
      "File \u001b[0;32m/opt/miniconda3/envs/nomic/lib/python3.9/site-packages/pandas/core/frame.py:758\u001b[0m, in \u001b[0;36mDataFrame.__init__\u001b[0;34m(self, data, index, columns, dtype, copy)\u001b[0m\n\u001b[1;32m    747\u001b[0m         mgr \u001b[39m=\u001b[39m dict_to_mgr(\n\u001b[1;32m    748\u001b[0m             \u001b[39m# error: Item \"ndarray\" of \"Union[ndarray, Series, Index]\" has no\u001b[39;00m\n\u001b[1;32m    749\u001b[0m             \u001b[39m# attribute \"name\"\u001b[39;00m\n\u001b[0;32m   (...)\u001b[0m\n\u001b[1;32m    755\u001b[0m             copy\u001b[39m=\u001b[39m_copy,\n\u001b[1;32m    756\u001b[0m         )\n\u001b[1;32m    757\u001b[0m     \u001b[39melse\u001b[39;00m:\n\u001b[0;32m--> 758\u001b[0m         mgr \u001b[39m=\u001b[39m ndarray_to_mgr(\n\u001b[1;32m    759\u001b[0m             data,\n\u001b[1;32m    760\u001b[0m             index,\n\u001b[1;32m    761\u001b[0m             columns,\n\u001b[1;32m    762\u001b[0m             dtype\u001b[39m=\u001b[39;49mdtype,\n\u001b[1;32m    763\u001b[0m             copy\u001b[39m=\u001b[39;49mcopy,\n\u001b[1;32m    764\u001b[0m             typ\u001b[39m=\u001b[39;49mmanager,\n\u001b[1;32m    765\u001b[0m         )\n\u001b[1;32m    767\u001b[0m \u001b[39m# For data is list-like, or Iterable (will consume into list)\u001b[39;00m\n\u001b[1;32m    768\u001b[0m \u001b[39melif\u001b[39;00m is_list_like(data):\n",
      "File \u001b[0;32m/opt/miniconda3/envs/nomic/lib/python3.9/site-packages/pandas/core/internals/construction.py:337\u001b[0m, in \u001b[0;36mndarray_to_mgr\u001b[0;34m(values, index, columns, dtype, copy, typ)\u001b[0m\n\u001b[1;32m    332\u001b[0m \u001b[39m# _prep_ndarraylike ensures that values.ndim == 2 at this point\u001b[39;00m\n\u001b[1;32m    333\u001b[0m index, columns \u001b[39m=\u001b[39m _get_axes(\n\u001b[1;32m    334\u001b[0m     values\u001b[39m.\u001b[39mshape[\u001b[39m0\u001b[39m], values\u001b[39m.\u001b[39mshape[\u001b[39m1\u001b[39m], index\u001b[39m=\u001b[39mindex, columns\u001b[39m=\u001b[39mcolumns\n\u001b[1;32m    335\u001b[0m )\n\u001b[0;32m--> 337\u001b[0m _check_values_indices_shape_match(values, index, columns)\n\u001b[1;32m    339\u001b[0m \u001b[39mif\u001b[39;00m typ \u001b[39m==\u001b[39m \u001b[39m\"\u001b[39m\u001b[39marray\u001b[39m\u001b[39m\"\u001b[39m:\n\u001b[1;32m    340\u001b[0m     \u001b[39mif\u001b[39;00m \u001b[39missubclass\u001b[39m(values\u001b[39m.\u001b[39mdtype\u001b[39m.\u001b[39mtype, \u001b[39mstr\u001b[39m):\n",
      "File \u001b[0;32m/opt/miniconda3/envs/nomic/lib/python3.9/site-packages/pandas/core/internals/construction.py:408\u001b[0m, in \u001b[0;36m_check_values_indices_shape_match\u001b[0;34m(values, index, columns)\u001b[0m\n\u001b[1;32m    406\u001b[0m passed \u001b[39m=\u001b[39m values\u001b[39m.\u001b[39mshape\n\u001b[1;32m    407\u001b[0m implied \u001b[39m=\u001b[39m (\u001b[39mlen\u001b[39m(index), \u001b[39mlen\u001b[39m(columns))\n\u001b[0;32m--> 408\u001b[0m \u001b[39mraise\u001b[39;00m \u001b[39mValueError\u001b[39;00m(\u001b[39mf\u001b[39m\u001b[39m\"\u001b[39m\u001b[39mShape of passed values is \u001b[39m\u001b[39m{\u001b[39;00mpassed\u001b[39m}\u001b[39;00m\u001b[39m, indices imply \u001b[39m\u001b[39m{\u001b[39;00mimplied\u001b[39m}\u001b[39;00m\u001b[39m\"\u001b[39m)\n",
      "\u001b[0;31mValueError\u001b[0m: Shape of passed values is (20000, 4), indices imply (20000, 104)"
     ]
    }
   ],
   "source": [
    "n = 100\n",
    "df_sidecar = pd.DataFrame(\n",
    "    np.random.randn(20000, 4 + n), index=labels, \n",
    "    columns=['category', 'continuous', 'feature', 'target', *[f\"feature_{i}\" for i in range(n)]]\n",
    "    # dtype=['category', 'bool', 'float64', 'float64', 'float64']\n",
    ")\n",
    "import random\n",
    "categories = ['red', 'green', 'blue']\n",
    "df_sidecar.category = df_sidecar.category.map(lambda x: random.choice(categories))\n",
    "# Bools are not supported.\n",
    "# df_sidecar.boolean = df_sidecar.boolean.map(lambda x: x >= 0)\n",
    "df_sidecar = df_sidecar.astype({'category': 'category'})\n",
    "df_sidecar.head()"
   ]
  },
  {
   "cell_type": "code",
   "execution_count": 37,
   "metadata": {},
   "outputs": [],
   "source": [
    "#labels.to_parquet(csv_labels, index=False)\n",
    "df_points.to_parquet(csv_points.name)\n",
    "df_sidecar.to_parquet(csv_sidecar.name)"
   ]
  },
  {
   "cell_type": "code",
   "execution_count": 38,
   "metadata": {},
   "outputs": [
    {
     "data": {
      "text/plain": [
       "<tempfile._TemporaryFileWrapper at 0x17f97d1c0>"
      ]
     },
     "execution_count": 38,
     "metadata": {},
     "output_type": "execute_result"
    }
   ],
   "source": [
    "csv_points"
   ]
  },
  {
   "attachments": {},
   "cell_type": "markdown",
   "metadata": {},
   "source": [
    "## Workflow"
   ]
  },
  {
   "attachments": {},
   "cell_type": "markdown",
   "metadata": {},
   "source": [
    "### 1) create tiles"
   ]
  },
  {
   "cell_type": "code",
   "execution_count": 39,
   "metadata": {},
   "outputs": [],
   "source": [
    "!quadfeather --files {csv_points.name} --tile_size {TILE_SIZE} --destination {os.path.join(TARGET_DIR, 'tiles')}"
   ]
  },
  {
   "cell_type": "code",
   "execution_count": 40,
   "metadata": {},
   "outputs": [],
   "source": [
    "for item in os.listdir(TMP_DIR):\n",
    "    # NOTE: _deepscatter_tmp doesn't automatically get cleaned up\n",
    "    if '_deepscatter_tmp' == item:\n",
    "        os.remove(os.path.join(TMP_DIR, item))"
   ]
  },
  {
   "attachments": {},
   "cell_type": "markdown",
   "metadata": {},
   "source": [
    "### 2) make single file"
   ]
  },
  {
   "attachments": {},
   "cell_type": "markdown",
   "metadata": {},
   "source": [
    "Create a single file that contains all the data you want to add, but none of the data that’s already there except for your unique id field (`label` in this case). \n",
    "\n",
    "NOTE: `label` must be the same name and data type as in your primary file."
   ]
  },
  {
   "cell_type": "code",
   "execution_count": 41,
   "metadata": {},
   "outputs": [],
   "source": [
    "df_all = pd.concat([df_points, df_sidecar], axis=1)"
   ]
  },
  {
   "cell_type": "code",
   "execution_count": 42,
   "metadata": {},
   "outputs": [
    {
     "data": {
      "text/html": [
       "<div>\n",
       "<style scoped>\n",
       "    .dataframe tbody tr th:only-of-type {\n",
       "        vertical-align: middle;\n",
       "    }\n",
       "\n",
       "    .dataframe tbody tr th {\n",
       "        vertical-align: top;\n",
       "    }\n",
       "\n",
       "    .dataframe thead th {\n",
       "        text-align: right;\n",
       "    }\n",
       "</style>\n",
       "<table border=\"1\" class=\"dataframe\">\n",
       "  <thead>\n",
       "    <tr style=\"text-align: right;\">\n",
       "      <th></th>\n",
       "      <th>x</th>\n",
       "      <th>y</th>\n",
       "      <th>z</th>\n",
       "      <th>category</th>\n",
       "      <th>continuous</th>\n",
       "      <th>feature</th>\n",
       "      <th>target</th>\n",
       "    </tr>\n",
       "    <tr>\n",
       "      <th>label</th>\n",
       "      <th></th>\n",
       "      <th></th>\n",
       "      <th></th>\n",
       "      <th></th>\n",
       "      <th></th>\n",
       "      <th></th>\n",
       "      <th></th>\n",
       "    </tr>\n",
       "  </thead>\n",
       "  <tbody>\n",
       "    <tr>\n",
       "      <th>Label 0</th>\n",
       "      <td>0.664128</td>\n",
       "      <td>-0.006745</td>\n",
       "      <td>1.824689</td>\n",
       "      <td>green</td>\n",
       "      <td>-1.982126</td>\n",
       "      <td>0.353178</td>\n",
       "      <td>-0.557645</td>\n",
       "    </tr>\n",
       "    <tr>\n",
       "      <th>Label 1</th>\n",
       "      <td>0.678044</td>\n",
       "      <td>0.025185</td>\n",
       "      <td>-1.036497</td>\n",
       "      <td>blue</td>\n",
       "      <td>0.673250</td>\n",
       "      <td>0.310800</td>\n",
       "      <td>-0.112366</td>\n",
       "    </tr>\n",
       "    <tr>\n",
       "      <th>Label 2</th>\n",
       "      <td>-0.567204</td>\n",
       "      <td>-0.909240</td>\n",
       "      <td>0.378961</td>\n",
       "      <td>blue</td>\n",
       "      <td>-0.069939</td>\n",
       "      <td>-1.015194</td>\n",
       "      <td>-0.736243</td>\n",
       "    </tr>\n",
       "    <tr>\n",
       "      <th>Label 3</th>\n",
       "      <td>-0.044125</td>\n",
       "      <td>0.191463</td>\n",
       "      <td>0.072447</td>\n",
       "      <td>red</td>\n",
       "      <td>-0.421524</td>\n",
       "      <td>0.175930</td>\n",
       "      <td>0.922671</td>\n",
       "    </tr>\n",
       "    <tr>\n",
       "      <th>Label 4</th>\n",
       "      <td>-1.031120</td>\n",
       "      <td>-0.586381</td>\n",
       "      <td>-1.524462</td>\n",
       "      <td>red</td>\n",
       "      <td>-0.652183</td>\n",
       "      <td>-1.149531</td>\n",
       "      <td>0.112916</td>\n",
       "    </tr>\n",
       "  </tbody>\n",
       "</table>\n",
       "</div>"
      ],
      "text/plain": [
       "                x         y         z category  continuous   feature    target\n",
       "label                                                                         \n",
       "Label 0  0.664128 -0.006745  1.824689    green   -1.982126  0.353178 -0.557645\n",
       "Label 1  0.678044  0.025185 -1.036497     blue    0.673250  0.310800 -0.112366\n",
       "Label 2 -0.567204 -0.909240  0.378961     blue   -0.069939 -1.015194 -0.736243\n",
       "Label 3 -0.044125  0.191463  0.072447      red   -0.421524  0.175930  0.922671\n",
       "Label 4 -1.031120 -0.586381 -1.524462      red   -0.652183 -1.149531  0.112916"
      ]
     },
     "execution_count": 42,
     "metadata": {},
     "output_type": "execute_result"
    }
   ],
   "source": [
    "df_all.head()"
   ]
  },
  {
   "cell_type": "code",
   "execution_count": 43,
   "metadata": {},
   "outputs": [
    {
     "data": {
      "text/html": [
       "<div>\n",
       "<style scoped>\n",
       "    .dataframe tbody tr th:only-of-type {\n",
       "        vertical-align: middle;\n",
       "    }\n",
       "\n",
       "    .dataframe tbody tr th {\n",
       "        vertical-align: top;\n",
       "    }\n",
       "\n",
       "    .dataframe thead th {\n",
       "        text-align: right;\n",
       "    }\n",
       "</style>\n",
       "<table border=\"1\" class=\"dataframe\">\n",
       "  <thead>\n",
       "    <tr style=\"text-align: right;\">\n",
       "      <th></th>\n",
       "      <th>category</th>\n",
       "      <th>continuous</th>\n",
       "      <th>feature</th>\n",
       "      <th>target</th>\n",
       "    </tr>\n",
       "    <tr>\n",
       "      <th>label</th>\n",
       "      <th></th>\n",
       "      <th></th>\n",
       "      <th></th>\n",
       "      <th></th>\n",
       "    </tr>\n",
       "  </thead>\n",
       "  <tbody>\n",
       "    <tr>\n",
       "      <th>Label 0</th>\n",
       "      <td>green</td>\n",
       "      <td>-1.982126</td>\n",
       "      <td>0.353178</td>\n",
       "      <td>-0.557645</td>\n",
       "    </tr>\n",
       "    <tr>\n",
       "      <th>Label 1</th>\n",
       "      <td>blue</td>\n",
       "      <td>0.673250</td>\n",
       "      <td>0.310800</td>\n",
       "      <td>-0.112366</td>\n",
       "    </tr>\n",
       "    <tr>\n",
       "      <th>Label 2</th>\n",
       "      <td>blue</td>\n",
       "      <td>-0.069939</td>\n",
       "      <td>-1.015194</td>\n",
       "      <td>-0.736243</td>\n",
       "    </tr>\n",
       "    <tr>\n",
       "      <th>Label 3</th>\n",
       "      <td>red</td>\n",
       "      <td>-0.421524</td>\n",
       "      <td>0.175930</td>\n",
       "      <td>0.922671</td>\n",
       "    </tr>\n",
       "    <tr>\n",
       "      <th>Label 4</th>\n",
       "      <td>red</td>\n",
       "      <td>-0.652183</td>\n",
       "      <td>-1.149531</td>\n",
       "      <td>0.112916</td>\n",
       "    </tr>\n",
       "  </tbody>\n",
       "</table>\n",
       "</div>"
      ],
      "text/plain": [
       "        category  continuous   feature    target\n",
       "label                                           \n",
       "Label 0    green   -1.982126  0.353178 -0.557645\n",
       "Label 1     blue    0.673250  0.310800 -0.112366\n",
       "Label 2     blue   -0.069939 -1.015194 -0.736243\n",
       "Label 3      red   -0.421524  0.175930  0.922671\n",
       "Label 4      red   -0.652183 -1.149531  0.112916"
      ]
     },
     "execution_count": 43,
     "metadata": {},
     "output_type": "execute_result"
    }
   ],
   "source": [
    "# NOTE: this is the same as df_sidecar\n",
    "df_all = df_all.drop(columns=df_points.columns)\n",
    "df_all.head()"
   ]
  },
  {
   "attachments": {},
   "cell_type": "markdown",
   "metadata": {},
   "source": [
    "NOTE: **All** columns that you want to show up in the data should ideally be `float32()` type, although doubles might not be the end of the world."
   ]
  },
  {
   "cell_type": "code",
   "execution_count": 46,
   "metadata": {},
   "outputs": [
    {
     "data": {
      "text/html": [
       "<div>\n",
       "<style scoped>\n",
       "    .dataframe tbody tr th:only-of-type {\n",
       "        vertical-align: middle;\n",
       "    }\n",
       "\n",
       "    .dataframe tbody tr th {\n",
       "        vertical-align: top;\n",
       "    }\n",
       "\n",
       "    .dataframe thead th {\n",
       "        text-align: right;\n",
       "    }\n",
       "</style>\n",
       "<table border=\"1\" class=\"dataframe\">\n",
       "  <thead>\n",
       "    <tr style=\"text-align: right;\">\n",
       "      <th></th>\n",
       "      <th>category</th>\n",
       "      <th>continuous</th>\n",
       "      <th>feature</th>\n",
       "      <th>target</th>\n",
       "    </tr>\n",
       "    <tr>\n",
       "      <th>label</th>\n",
       "      <th></th>\n",
       "      <th></th>\n",
       "      <th></th>\n",
       "      <th></th>\n",
       "    </tr>\n",
       "  </thead>\n",
       "  <tbody>\n",
       "    <tr>\n",
       "      <th>Label 0</th>\n",
       "      <td>green</td>\n",
       "      <td>-1.982126</td>\n",
       "      <td>0.353178</td>\n",
       "      <td>-0.557645</td>\n",
       "    </tr>\n",
       "    <tr>\n",
       "      <th>Label 1</th>\n",
       "      <td>blue</td>\n",
       "      <td>0.673250</td>\n",
       "      <td>0.310800</td>\n",
       "      <td>-0.112366</td>\n",
       "    </tr>\n",
       "    <tr>\n",
       "      <th>Label 2</th>\n",
       "      <td>blue</td>\n",
       "      <td>-0.069939</td>\n",
       "      <td>-1.015194</td>\n",
       "      <td>-0.736243</td>\n",
       "    </tr>\n",
       "    <tr>\n",
       "      <th>Label 3</th>\n",
       "      <td>red</td>\n",
       "      <td>-0.421524</td>\n",
       "      <td>0.175930</td>\n",
       "      <td>0.922671</td>\n",
       "    </tr>\n",
       "    <tr>\n",
       "      <th>Label 4</th>\n",
       "      <td>red</td>\n",
       "      <td>-0.652183</td>\n",
       "      <td>-1.149531</td>\n",
       "      <td>0.112916</td>\n",
       "    </tr>\n",
       "  </tbody>\n",
       "</table>\n",
       "</div>"
      ],
      "text/plain": [
       "        category  continuous   feature    target\n",
       "label                                           \n",
       "Label 0    green   -1.982126  0.353178 -0.557645\n",
       "Label 1     blue    0.673250  0.310800 -0.112366\n",
       "Label 2     blue   -0.069939 -1.015194 -0.736243\n",
       "Label 3      red   -0.421524  0.175930  0.922671\n",
       "Label 4      red   -0.652183 -1.149531  0.112916"
      ]
     },
     "execution_count": 46,
     "metadata": {},
     "output_type": "execute_result"
    }
   ],
   "source": [
    "for col in df_all:\n",
    "    if df_all[col].dtype == 'float64':\n",
    "        df_all[col] = df_all[col].astype('float32')\n",
    "df_all.head()"
   ]
  },
  {
   "attachments": {},
   "cell_type": "markdown",
   "metadata": {},
   "source": [
    "The file must be a [feather file][feather file], not parquet. \n",
    "\n",
    "```python \n",
    "from pyarrow import feather; \n",
    "\n",
    "# if converting from parquet\n",
    "feather.write_feather(parquet.read_table('fin.parquet), 'fout.feather))\n",
    "\n",
    "# if converting pandas\n",
    "feather.write_feather(df, 'fout.feather')\n",
    "```\n",
    "\n",
    "[feather file]: https://arrow.apache.org/docs/python/feather.html"
   ]
  },
  {
   "cell_type": "code",
   "execution_count": 47,
   "metadata": {},
   "outputs": [],
   "source": [
    "feather.write_feather(df_all, feather_sidecar.name)"
   ]
  },
  {
   "attachments": {},
   "cell_type": "markdown",
   "metadata": {},
   "source": [
    "### 3) run `add_sidecars.py`"
   ]
  },
  {
   "cell_type": "code",
   "execution_count": 48,
   "metadata": {},
   "outputs": [
    {
     "name": "stdout",
     "output_type": "stream",
     "text": [
      "/Users/ben/featherplot/nbs/../static/datasets/demo/tiles/0/0/0.feather\n",
      "/Users/ben/featherplot/nbs/../static/datasets/demo/tiles/1/0/1.feather\n",
      "/Users/ben/featherplot/nbs/../static/datasets/demo/tiles/1/0/0.feather\n",
      "/Users/ben/featherplot/nbs/../static/datasets/demo/tiles/1/1/1.feather\n",
      "/Users/ben/featherplot/nbs/../static/datasets/demo/tiles/1/1/0.feather\n",
      "/Users/ben/featherplot/nbs/../static/datasets/demo/tiles/4/9/6.feather\n",
      "/Users/ben/featherplot/nbs/../static/datasets/demo/tiles/4/9/7.feather\n",
      "/Users/ben/featherplot/nbs/../static/datasets/demo/tiles/4/9/8.feather\n",
      "/Users/ben/featherplot/nbs/../static/datasets/demo/tiles/4/9/9.feather\n",
      "/Users/ben/featherplot/nbs/../static/datasets/demo/tiles/4/8/6.feather\n",
      "/Users/ben/featherplot/nbs/../static/datasets/demo/tiles/4/8/7.feather\n",
      "/Users/ben/featherplot/nbs/../static/datasets/demo/tiles/4/8/8.feather\n",
      "/Users/ben/featherplot/nbs/../static/datasets/demo/tiles/4/8/9.feather\n",
      "/Users/ben/featherplot/nbs/../static/datasets/demo/tiles/3/4/5.feather\n",
      "/Users/ben/featherplot/nbs/../static/datasets/demo/tiles/3/4/4.feather\n",
      "/Users/ben/featherplot/nbs/../static/datasets/demo/tiles/3/4/2.feather\n",
      "/Users/ben/featherplot/nbs/../static/datasets/demo/tiles/3/4/3.feather\n",
      "/Users/ben/featherplot/nbs/../static/datasets/demo/tiles/3/3/5.feather\n",
      "/Users/ben/featherplot/nbs/../static/datasets/demo/tiles/3/3/4.feather\n",
      "/Users/ben/featherplot/nbs/../static/datasets/demo/tiles/3/3/2.feather\n",
      "/Users/ben/featherplot/nbs/../static/datasets/demo/tiles/3/3/3.feather\n",
      "/Users/ben/featherplot/nbs/../static/datasets/demo/tiles/3/2/5.feather\n",
      "/Users/ben/featherplot/nbs/../static/datasets/demo/tiles/3/2/4.feather\n",
      "/Users/ben/featherplot/nbs/../static/datasets/demo/tiles/3/2/2.feather\n",
      "/Users/ben/featherplot/nbs/../static/datasets/demo/tiles/3/2/3.feather\n",
      "/Users/ben/featherplot/nbs/../static/datasets/demo/tiles/3/5/5.feather\n",
      "/Users/ben/featherplot/nbs/../static/datasets/demo/tiles/3/5/4.feather\n",
      "/Users/ben/featherplot/nbs/../static/datasets/demo/tiles/3/5/2.feather\n",
      "/Users/ben/featherplot/nbs/../static/datasets/demo/tiles/3/5/3.feather\n",
      "/Users/ben/featherplot/nbs/../static/datasets/demo/tiles/2/0/2.feather\n",
      "/Users/ben/featherplot/nbs/../static/datasets/demo/tiles/2/0/3.feather\n",
      "/Users/ben/featherplot/nbs/../static/datasets/demo/tiles/2/0/1.feather\n",
      "/Users/ben/featherplot/nbs/../static/datasets/demo/tiles/2/0/0.feather\n",
      "/Users/ben/featherplot/nbs/../static/datasets/demo/tiles/2/1/2.feather\n",
      "/Users/ben/featherplot/nbs/../static/datasets/demo/tiles/2/1/3.feather\n",
      "/Users/ben/featherplot/nbs/../static/datasets/demo/tiles/2/1/1.feather\n",
      "/Users/ben/featherplot/nbs/../static/datasets/demo/tiles/2/1/0.feather\n",
      "/Users/ben/featherplot/nbs/../static/datasets/demo/tiles/2/3/2.feather\n",
      "/Users/ben/featherplot/nbs/../static/datasets/demo/tiles/2/3/3.feather\n",
      "/Users/ben/featherplot/nbs/../static/datasets/demo/tiles/2/3/1.feather\n",
      "/Users/ben/featherplot/nbs/../static/datasets/demo/tiles/2/3/0.feather\n",
      "/Users/ben/featherplot/nbs/../static/datasets/demo/tiles/2/2/2.feather\n",
      "/Users/ben/featherplot/nbs/../static/datasets/demo/tiles/2/2/3.feather\n",
      "/Users/ben/featherplot/nbs/../static/datasets/demo/tiles/2/2/1.feather\n",
      "/Users/ben/featherplot/nbs/../static/datasets/demo/tiles/2/2/0.feather\n",
      "\u001b[H\u001b[2J"
     ]
    }
   ],
   "source": [
    "!python3 add_sidecars.py --tileset {os.path.join(TARGET_DIR, 'tiles')}\\\n",
    "                         --sidecar {feather_sidecar.name} --key {LABEL_NAME};\n",
    "!clear                         "
   ]
  },
  {
   "attachments": {},
   "cell_type": "markdown",
   "metadata": {},
   "source": [
    "## Meta Data"
   ]
  },
  {
   "cell_type": "code",
   "execution_count": 49,
   "metadata": {},
   "outputs": [],
   "source": [
    "meta = dict(\n",
    "    seed=SEED, n_points=N_POINTS, tile_size=TILE_SIZE, \n",
    "    dataset_name=DATASET_NAME, label_name=LABEL_NAME,\n",
    "    \n",
    "    # NOTE: since all these direcetories are relative to the static assets directory\n",
    "    #       we can use the relative path to the static assets directory instead of the wrangling\n",
    "    #       we did above.\n",
    "    target_dir=TARGET_DIR.replace(STATIC_ASSETS_DIR, ''), \n",
    "    tiles_dir=os.path.join(TARGET_DIR, 'tiles').replace(STATIC_ASSETS_DIR, ''),\n",
    "\n",
    "    embedding_columns=df_points.columns.values.tolist(),\n",
    "    sidecar_columns=df_sidecar.columns.values.tolist(),\n",
    ")"
   ]
  },
  {
   "cell_type": "code",
   "execution_count": 50,
   "metadata": {},
   "outputs": [],
   "source": [
    "with open(os.path.join(TARGET_DIR, 'meta.yml'), 'w') as f:\n",
    "    f.write(yaml.dump(meta))"
   ]
  },
  {
   "attachments": {},
   "cell_type": "markdown",
   "metadata": {},
   "source": [
    "## Cleanup"
   ]
  },
  {
   "attachments": {},
   "cell_type": "markdown",
   "metadata": {},
   "source": [
    "NOTE: these files will automatically be deleted when the kernel stops, but we delete them here for good practice"
   ]
  },
  {
   "cell_type": "code",
   "execution_count": 51,
   "metadata": {},
   "outputs": [],
   "source": [
    "csv_points.close()\n",
    "csv_sidecar.close()\n",
    "feather_sidecar.close()"
   ]
  },
  {
   "cell_type": "code",
   "execution_count": null,
   "metadata": {},
   "outputs": [],
   "source": []
  }
 ],
 "metadata": {
  "kernelspec": {
   "display_name": "quadfeather",
   "language": "python",
   "name": "python3"
  },
  "language_info": {
   "codemirror_mode": {
    "name": "ipython",
    "version": 3
   },
   "file_extension": ".py",
   "mimetype": "text/x-python",
   "name": "python",
   "nbconvert_exporter": "python",
   "pygments_lexer": "ipython3",
   "version": "3.9.15"
  },
  "orig_nbformat": 4
 },
 "nbformat": 4,
 "nbformat_minor": 2
}
